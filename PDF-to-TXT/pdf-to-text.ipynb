{
 "cells": [
  {
   "cell_type": "code",
   "execution_count": 4,
   "metadata": {},
   "outputs": [
    {
     "ename": "ModuleNotFoundError",
     "evalue": "No module named 'pdftotext'",
     "output_type": "error",
     "traceback": [
      "\u001b[1;31m---------------------------------------------------------------------------\u001b[0m",
      "\u001b[1;31mModuleNotFoundError\u001b[0m                       Traceback (most recent call last)",
      "\u001b[1;32m<ipython-input-4-5dd1404e5a68>\u001b[0m in \u001b[0;36m<module>\u001b[1;34m()\u001b[0m\n\u001b[1;32m----> 1\u001b[1;33m \u001b[1;32mimport\u001b[0m \u001b[0mpdftotext\u001b[0m\u001b[1;33m\u001b[0m\u001b[0m\n\u001b[0m\u001b[0;32m      2\u001b[0m \u001b[1;33m\u001b[0m\u001b[0m\n\u001b[0;32m      3\u001b[0m \u001b[1;31m# Load your PDF\u001b[0m\u001b[1;33m\u001b[0m\u001b[1;33m\u001b[0m\u001b[0m\n\u001b[0;32m      4\u001b[0m \u001b[1;32mwith\u001b[0m \u001b[0mopen\u001b[0m\u001b[1;33m(\u001b[0m\u001b[1;34mr\"C:\\Users\\Administrator\\Downloads\\plagerism.pdf\"\u001b[0m\u001b[1;33m,\u001b[0m \u001b[1;34m\"rb\"\u001b[0m\u001b[1;33m)\u001b[0m \u001b[1;32mas\u001b[0m \u001b[0mf\u001b[0m\u001b[1;33m:\u001b[0m\u001b[1;33m\u001b[0m\u001b[0m\n\u001b[0;32m      5\u001b[0m     \u001b[0mpdf\u001b[0m \u001b[1;33m=\u001b[0m \u001b[0mpdftotext\u001b[0m\u001b[1;33m.\u001b[0m\u001b[0mPDF\u001b[0m\u001b[1;33m(\u001b[0m\u001b[0mf\u001b[0m\u001b[1;33m)\u001b[0m\u001b[1;33m\u001b[0m\u001b[0m\n",
      "\u001b[1;31mModuleNotFoundError\u001b[0m: No module named 'pdftotext'"
     ]
    }
   ],
   "source": [
    "import pdftotext\n",
    " \n",
    "# Load your PDF\n",
    "with open(r\"C:\\Users\\Administrator\\Downloads\\plagerism.pdf\", \"rb\") as f:\n",
    "    pdf = pdftotext.PDF(f)\n",
    " \n",
    "# Save all text to a txt file.\n",
    "with open('output.txt', 'w') as f:\n",
    "    f.write(r\"C:\\Users\\Administrator\\Desktop\\hello\".join(pdf))"
   ]
  },
  {
   "cell_type": "code",
   "execution_count": 8,
   "metadata": {},
   "outputs": [
    {
     "ename": "SyntaxError",
     "evalue": "(unicode error) 'unicodeescape' codec can't decode bytes in position 2-3: truncated \\UXXXXXXXX escape (<ipython-input-8-c54888db8670>, line 2)",
     "output_type": "error",
     "traceback": [
      "\u001b[1;36m  File \u001b[1;32m\"<ipython-input-8-c54888db8670>\"\u001b[1;36m, line \u001b[1;32m2\u001b[0m\n\u001b[1;33m    input1 = \"C:\\Users\\Administrator\\Downloads\\plagerism.pdf\"\u001b[0m\n\u001b[1;37m            ^\u001b[0m\n\u001b[1;31mSyntaxError\u001b[0m\u001b[1;31m:\u001b[0m (unicode error) 'unicodeescape' codec can't decode bytes in position 2-3: truncated \\UXXXXXXXX escape\n"
     ]
    }
   ],
   "source": [
    "import os\n",
    "input1 = \"C:\\Users\\Administrator\\Downloads\\plagerism.pdf\"\n",
    "output = \"C:\\Users\\Administrator\\Desktop\\hello.txt\"\n",
    "os.system(\"pdftotext '%s' '%s'\" % (input1, output))"
   ]
  },
  {
   "cell_type": "code",
   "execution_count": 10,
   "metadata": {},
   "outputs": [
    {
     "name": "stdout",
     "output_type": "stream",
     "text": [
      "Collecting PyPDF2\n",
      "  Downloading https://files.pythonhosted.org/packages/b4/01/68fcc0d43daf4c6bdbc6b33cc3f77bda531c86b174cac56ef0ffdb96faab/PyPDF2-1.26.0.tar.gz (77kB)\n",
      "Building wheels for collected packages: PyPDF2\n",
      "  Running setup.py bdist_wheel for PyPDF2: started\n",
      "  Running setup.py bdist_wheel for PyPDF2: finished with status 'done'\n",
      "  Stored in directory: C:\\Users\\Administrator\\AppData\\Local\\pip\\Cache\\wheels\\53\\84\\19\\35bc977c8bf5f0c23a8a011aa958acd4da4bbd7a229315c1b7\n",
      "Successfully built PyPDF2\n",
      "Installing collected packages: PyPDF2\n",
      "Successfully installed PyPDF2-1.26.0\n"
     ]
    },
    {
     "name": "stderr",
     "output_type": "stream",
     "text": [
      "You are using pip version 10.0.1, however version 20.0.2 is available.\n",
      "You should consider upgrading via the 'python -m pip install --upgrade pip' command.\n"
     ]
    }
   ],
   "source": [
    "!pip install PyPDF2\n"
   ]
  },
  {
   "cell_type": "code",
   "execution_count": 24,
   "metadata": {
    "scrolled": true
   },
   "outputs": [
    {
     "name": "stdout",
     "output_type": "stream",
     "text": [
      " No. Of Pages : 2\n",
      "Hello today is beautiful \n",
      " \n",
      "thon \n",
      "\n",
      " \n",
      "How To Extract Text From PDF\n",
      " \n",
      "Before proceeding to main topic of this post, i will explain you some use cases where these type \n",
      "of PDF extraction required.\n",
      " \n",
      "\n",
      " \n",
      "One example is, you are using job portal where people used to upload\n",
      " \n",
      "their CV in PDF \n",
      "format. And when the recruiters researching for some kind of keywords like say a \n",
      "recruiters needs Hadoop developers, big data developers, python developers, java \n",
      "developers etc. So the keyword will be get\n",
      " \n",
      " \n",
      "matched with the skills what you \n",
      "have \n",
      "specified in the resume. This is again a processing so\n",
      " \n",
      " \n",
      "they extract data from your PDF \n",
      "document and they will matched with the keyword what the recruiter is searching for and \n",
      "then they will just give you your name, email or all those stuffs. So this \n",
      "is the use case.\n",
      " \n",
      " \n",
      "Python provides many modules for PDF extraction but here we will see\n",
      " \n",
      "PyPDF2\n",
      " \n",
      "module. So \n",
      "\n",
      " \n",
      "PDF To Text Python \n",
      "\n",
      " \n",
      "Extraction Text Using PyPDF2 \n",
      "module\n",
      " \n",
      "\n",
      " \n",
      "PyPDF2\n",
      " \n",
      "is a Pure\n",
      "-\n",
      "Python library built as a PDF toolkit. It is capable of:\n",
      " \n",
      "\n",
      " \n",
      "\n",
      " \n",
      "\n",
      " \n",
      "splitting documents page by page\n",
      " \n",
      "\n",
      " \n",
      "merging documents page by page\n",
      " \n",
      "\n",
      " \n",
      "cropping pages\n",
      " \n",
      "\n",
      " \n",
      "merging multiple pages into a single pa\n",
      "ge\n",
      " \n",
      "\n",
      " \n",
      "encrypting and decrypting PDF files\n",
      " \n",
      "\n",
      " \n",
      "and more!\n",
      " \n",
      "So now we will see how to extract text from PDF using PyPDF2 module. Write the following \n",
      "code on your python IDE(check\n",
      " \n",
      "best python IDEs\n",
      ").\n",
      " \n",
      "Installing PyPDF2\n",
      " \n",
      "Run the following command on terminal to install PyPDF2.\n",
      " \n",
      "pip install PyPDF2\n",
      " \n",
      "\n"
     ]
    }
   ],
   "source": [
    "import PyPDF2\n",
    "pdfFileObject = open(r\"C:\\Users\\Administrator\\Downloads\\test.pdf\", 'rb')\n",
    "pdfReader = PyPDF2.PdfFileReader(pdfFileObject)\n",
    "print(\" No. Of Pages :\", pdfReader.numPages)\n",
    "pageObject = pdfReader.getPage(0)\n",
    "print(pageObject.extractText())\n",
    "pdfFileObject.close()"
   ]
  },
  {
   "cell_type": "code",
   "execution_count": 27,
   "metadata": {},
   "outputs": [
    {
     "name": "stdout",
     "output_type": "stream",
     "text": [
      "pdf\n"
     ]
    }
   ],
   "source": [
    "test_string=\"hello.pdf\"\n",
    "res = test_string.partition('.')[2]\n",
    "print(res)"
   ]
  },
  {
   "cell_type": "code",
   "execution_count": null,
   "metadata": {},
   "outputs": [],
   "source": []
  }
 ],
 "metadata": {
  "kernelspec": {
   "display_name": "Python 3",
   "language": "python",
   "name": "python3"
  },
  "language_info": {
   "codemirror_mode": {
    "name": "ipython",
    "version": 3
   },
   "file_extension": ".py",
   "mimetype": "text/x-python",
   "name": "python",
   "nbconvert_exporter": "python",
   "pygments_lexer": "ipython3",
   "version": "3.6.5"
  }
 },
 "nbformat": 4,
 "nbformat_minor": 2
}
